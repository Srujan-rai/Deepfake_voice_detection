{
  "cells": [
    {
      "cell_type": "markdown",
      "metadata": {
        "id": "view-in-github",
        "colab_type": "text"
      },
      "source": [
        "<a href=\"https://colab.research.google.com/github/Srujan-rai/Deepfake_voice_detection/blob/main/model.ipynb\" target=\"_parent\"><img src=\"https://colab.research.google.com/assets/colab-badge.svg\" alt=\"Open In Colab\"/></a>"
      ]
    },
    {
      "cell_type": "code",
      "execution_count": 1,
      "metadata": {
        "id": "sp5xEAkucagw"
      },
      "outputs": [],
      "source": [
        "import os\n",
        "from sklearn.model_selection import train_test_split\n",
        "\n",
        "data_dir = '/content/drive/MyDrive/Deepfake/Deepfake - Voice Detection/KAGGLE/DATA'  # Path to the 'data' directory\n",
        "image_paths = []\n",
        "labels = []\n",
        "\n",
        "for label in os.listdir(data_dir):\n",
        "    label_dir = os.path.join(data_dir, label)\n",
        "    for image_filename in os.listdir(label_dir):\n",
        "        image_paths.append(os.path.join(label_dir, image_filename))\n",
        "        labels.append(label)\n",
        "\n",
        "X_train, X_temp, y_train, y_temp = train_test_split(image_paths, labels, test_size=0.3, random_state=42)\n",
        "X_val, X_test, y_val, y_test = train_test_split(X_temp, y_temp, test_size=0.5, random_state=42)\n"
      ]
    },
    {
      "cell_type": "code",
      "execution_count": 2,
      "metadata": {
        "colab": {
          "base_uri": "https://localhost:8080/"
        },
        "id": "4fHZ79LFkNeW",
        "outputId": "b19cdd36-aa3a-4e67-ae65-fdf0efa5f74f"
      },
      "outputs": [
        {
          "output_type": "stream",
          "name": "stdout",
          "text": [
            "Found 262 images belonging to 2 classes.\n",
            "Found 65 images belonging to 2 classes.\n",
            "Epoch 1/10\n",
            "9/9 [==============================] - 200s 21s/step - loss: 44.4929 - accuracy: 0.4924 - val_loss: 8.5578 - val_accuracy: 0.5385\n",
            "Epoch 2/10\n",
            "9/9 [==============================] - 190s 21s/step - loss: 2.1569 - accuracy: 0.4351 - val_loss: 0.6916 - val_accuracy: 0.5538\n",
            "Epoch 3/10\n",
            "9/9 [==============================] - 188s 20s/step - loss: 0.6930 - accuracy: 0.5229 - val_loss: 0.6791 - val_accuracy: 0.6154\n",
            "9/9 [==============================] - 188s 20s/step - loss: 0.6916 - accuracy: 0.5000 - val_loss: 0.6415 - val_accuracy: 0.6923\n",
            "Epoch 5/10\n",
            "9/9 [==============================] - 193s 21s/step - loss: 0.7367 - accuracy: 0.5038 - val_loss: 0.6918 - val_accuracy: 0.5692\n",
            "Epoch 6/10\n",
            "9/9 [==============================] - 183s 22s/step - loss: 0.6921 - accuracy: 0.5611 - val_loss: 0.6913 - val_accuracy: 0.5231\n",
            "Epoch 7/10\n",
            "9/9 [==============================] - 183s 20s/step - loss: 0.6920 - accuracy: 0.5420 - val_loss: 0.6903 - val_accuracy: 0.6615\n",
            "Epoch 8/10\n",
            "9/9 [==============================] - 209s 23s/step - loss: 0.6931 - accuracy: 0.5267 - val_loss: 0.6900 - val_accuracy: 0.5385\n",
            "Epoch 9/10\n",
            "9/9 [==============================] - 191s 20s/step - loss: 0.6916 - accuracy: 0.5420 - val_loss: 0.6904 - val_accuracy: 0.5385\n",
            "Epoch 10/10\n",
            "9/9 [==============================] - 185s 22s/step - loss: 0.6915 - accuracy: 0.5382 - val_loss: 0.6908 - val_accuracy: 0.5385\n"
          ]
        }
      ],
      "source": [
        "import tensorflow as tf\n",
        "from tensorflow import keras\n",
        "from tensorflow.keras import layers\n",
        "\n",
        "\n",
        "image_height=640\n",
        "image_width=480\n",
        "\n",
        "datagen = keras.preprocessing.image.ImageDataGenerator(\n",
        "    rescale=1.0 / 255,\n",
        "    rotation_range=20,\n",
        "    width_shift_range=0.2,\n",
        "    height_shift_range=0.2,\n",
        "    horizontal_flip=True,\n",
        "    validation_split=0.2\n",
        ")\n",
        "\n",
        "\n",
        "model = keras.Sequential([\n",
        "    layers.Conv2D(32, (3, 3), activation='relu', input_shape=(image_height, image_width, 3)),\n",
        "    layers.MaxPooling2D((2, 2)),\n",
        "    layers.Conv2D(64, (3, 3), activation='relu'),\n",
        "    layers.MaxPooling2D((2, 2)),\n",
        "    layers.Flatten(),\n",
        "    layers.Dense(128, activation='relu'),\n",
        "    layers.Dense(2, activation='softmax')\n",
        "])\n",
        "\n",
        "model.compile(optimizer='adam',\n",
        "              loss='categorical_crossentropy',\n",
        "              metrics=['accuracy'])\n",
        "\n",
        "\n",
        "train_datagen = datagen.flow_from_directory(data_dir,\n",
        "                                            target_size=(image_height, image_width),\n",
        "                                            batch_size=32,\n",
        "                                            class_mode='categorical',\n",
        "                                            subset='training')\n",
        "val_datagen = datagen.flow_from_directory(data_dir,\n",
        "                                          target_size=(image_height, image_width),\n",
        "                                          batch_size=32,\n",
        "                                          class_mode='categorical',\n",
        "                                          subset='validation')\n",
        "\n",
        "\n",
        "history = model.fit(train_datagen,\n",
        "                    validation_data=val_datagen,\n",
        "                    epochs=10,\n",
        "                    verbose=1)\n"
      ]
    },
    {
      "cell_type": "code",
      "execution_count": 8,
      "metadata": {
        "id": "udJxe3cHnCQ7"
      },
      "outputs": [],
      "source": [
        "model.save('/content/drive/MyDrive/Deepfake/Deepfake - Voice Detection/KAGGLE/MODEL/deepfake_model.h5')\n"
      ]
    },
    {
      "cell_type": "code",
      "execution_count": 4,
      "metadata": {
        "colab": {
          "base_uri": "https://localhost:8080/",
          "height": 34
        },
        "id": "X3RDPxtiti5z",
        "outputId": "5c53a4f7-905c-41b7-87c9-20e114c0778e"
      },
      "outputs": [
        {
          "output_type": "display_data",
          "data": {
            "text/plain": [
              "<IPython.core.display.Javascript object>"
            ],
            "application/javascript": [
              "\n",
              "    async function download(id, filename, size) {\n",
              "      if (!google.colab.kernel.accessAllowed) {\n",
              "        return;\n",
              "      }\n",
              "      const div = document.createElement('div');\n",
              "      const label = document.createElement('label');\n",
              "      label.textContent = `Downloading \"${filename}\": `;\n",
              "      div.appendChild(label);\n",
              "      const progress = document.createElement('progress');\n",
              "      progress.max = size;\n",
              "      div.appendChild(progress);\n",
              "      document.body.appendChild(div);\n",
              "\n",
              "      const buffers = [];\n",
              "      let downloaded = 0;\n",
              "\n",
              "      const channel = await google.colab.kernel.comms.open(id);\n",
              "      // Send a message to notify the kernel that we're ready.\n",
              "      channel.send({})\n",
              "\n",
              "      for await (const message of channel.messages) {\n",
              "        // Send a message to notify the kernel that we're ready.\n",
              "        channel.send({})\n",
              "        if (message.buffers) {\n",
              "          for (const buffer of message.buffers) {\n",
              "            buffers.push(buffer);\n",
              "            downloaded += buffer.byteLength;\n",
              "            progress.value = downloaded;\n",
              "          }\n",
              "        }\n",
              "      }\n",
              "      const blob = new Blob(buffers, {type: 'application/binary'});\n",
              "      const a = document.createElement('a');\n",
              "      a.href = window.URL.createObjectURL(blob);\n",
              "      a.download = filename;\n",
              "      div.appendChild(a);\n",
              "      a.click();\n",
              "      div.remove();\n",
              "    }\n",
              "  "
            ]
          },
          "metadata": {}
        },
        {
          "output_type": "display_data",
          "data": {
            "text/plain": [
              "<IPython.core.display.Javascript object>"
            ],
            "application/javascript": [
              "download(\"download_f99d55a1-dfb1-4c5d-9a93-33ce4c6d36c7\", \"deepfake_model.h5\", 1833060784)"
            ]
          },
          "metadata": {}
        }
      ],
      "source": [
        "from google.colab import files\n",
        "files.download('deepfake_model.h5')"
      ]
    },
    {
      "cell_type": "code",
      "execution_count": 5,
      "metadata": {
        "id": "fpb5f0e5u56J"
      },
      "outputs": [],
      "source": [
        "import os\n",
        "base_path='/content/drive/MyDrive/Deepfake/Deepfake - Voice Detection/KAGGLE'\n",
        "folder_name='MODEL'\n",
        "\n",
        "folder_path=os.path.join(base_path,folder_name)\n",
        "os.makedirs(folder_path,exist_ok=True)\n"
      ]
    },
    {
      "cell_type": "markdown",
      "source": [],
      "metadata": {
        "id": "SYt3UYn_vsLy"
      }
    },
    {
      "cell_type": "code",
      "source": [],
      "metadata": {
        "id": "hawf7qi9Jq7Q"
      },
      "execution_count": null,
      "outputs": []
    }
  ],
  "metadata": {
    "colab": {
      "provenance": [],
      "mount_file_id": "1LFyLh1IrqYUgKsxXQnmrBRBkWLdv3DZF",
      "authorship_tag": "ABX9TyNDUCfo3QtoOB1lBFzFBQT1",
      "include_colab_link": true
    },
    "kernelspec": {
      "display_name": "Python 3",
      "name": "python3"
    },
    "language_info": {
      "name": "python"
    }
  },
  "nbformat": 4,
  "nbformat_minor": 0
}