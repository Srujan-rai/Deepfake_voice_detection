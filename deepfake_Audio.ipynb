{
  "nbformat": 4,
  "nbformat_minor": 0,
  "metadata": {
    "colab": {
      "provenance": [],
      "mount_file_id": "1HD0EK6i4C12GEGISYDP5lHHvwIy_evV8",
      "authorship_tag": "ABX9TyPOrCezg/ttxdikaZsBoaZs",
      "include_colab_link": true
    },
    "kernelspec": {
      "name": "python3",
      "display_name": "Python 3"
    },
    "language_info": {
      "name": "python"
    }
  },
  "cells": [
    {
      "cell_type": "markdown",
      "metadata": {
        "id": "view-in-github",
        "colab_type": "text"
      },
      "source": [
        "<a href=\"https://colab.research.google.com/github/Srujan-rai/Deepfake_voice_detection/blob/main/deepfake_Audio.ipynb\" target=\"_parent\"><img src=\"https://colab.research.google.com/assets/colab-badge.svg\" alt=\"Open In Colab\"/></a>"
      ]
    },
    {
      "cell_type": "code",
      "execution_count": null,
      "metadata": {
        "id": "Fx4CYqmhci74"
      },
      "outputs": [],
      "source": [
        "import os\n",
        "import numpy as np\n",
        "import matplotlib.pyplot as plt\n",
        "from scipy.io import wavfile\n",
        "\n",
        "input_folder = \"/content/drive/MyDrive/Deepfake/Deepfake - Voice Detection/KAGGLE/AUDIO/REAL_SEGMENTS\"\n",
        "output_folder = \"/content/drive/MyDrive/Deepfake/Deepfake - Voice Detection/KAGGLE/AUDIO/REAL_SEGMENTS_IMG\"\n",
        "\n",
        "os.makedirs(output_folder, exist_ok=True)\n",
        "\n",
        "wav_files = [f for f in os.listdir(input_folder) if f.endswith(\".wav\")]\n",
        "\n",
        "for wav_file in wav_files:\n",
        "    sample_rate, audio_data = wavfile.read(os.path.join(input_folder, wav_file))\n",
        "\n",
        "    time = np.arange(0, len(audio_data)) / sample_rate\n",
        "\n",
        "    plt.figure()\n",
        "    plt.plot(time, audio_data)\n",
        "    plt.xlabel(\"Time\")\n",
        "    plt.ylabel(\"Amplitude\")\n",
        "    plt.title(\"Waveform of \" + wav_file)\n",
        "\n",
        "\n",
        "    plot_filename = os.path.splitext(wav_file)[0] + \"_waveform.png\"\n",
        "    plot_path = os.path.join(output_folder, plot_filename)\n",
        "    plt.savefig(plot_path)\n",
        "    plt.close()\n",
        "\n",
        "print(\"Waveform plots have been saved in the output folder.\")\n"
      ]
    },
    {
      "cell_type": "code",
      "source": [
        "from google.colab import drive\n",
        "drive.mount('/content/drive')"
      ],
      "metadata": {
        "colab": {
          "base_uri": "https://localhost:8080/",
          "height": 356
        },
        "id": "zITYnrmZf7vJ",
        "outputId": "3608e19a-6fff-4f4e-adb9-bcf4d655d27f"
      },
      "execution_count": null,
      "outputs": [
        {
          "output_type": "error",
          "ename": "ValueError",
          "evalue": "ignored",
          "traceback": [
            "\u001b[0;31m---------------------------------------------------------------------------\u001b[0m",
            "\u001b[0;31mValueError\u001b[0m                                Traceback (most recent call last)",
            "\u001b[0;32m<ipython-input-4-d5df0069828e>\u001b[0m in \u001b[0;36m<cell line: 2>\u001b[0;34m()\u001b[0m\n\u001b[1;32m      1\u001b[0m \u001b[0;32mfrom\u001b[0m \u001b[0mgoogle\u001b[0m\u001b[0;34m.\u001b[0m\u001b[0mcolab\u001b[0m \u001b[0;32mimport\u001b[0m \u001b[0mdrive\u001b[0m\u001b[0;34m\u001b[0m\u001b[0;34m\u001b[0m\u001b[0m\n\u001b[0;32m----> 2\u001b[0;31m \u001b[0mdrive\u001b[0m\u001b[0;34m.\u001b[0m\u001b[0mmount\u001b[0m\u001b[0;34m(\u001b[0m\u001b[0;34m'/content/drive'\u001b[0m\u001b[0;34m)\u001b[0m\u001b[0;34m\u001b[0m\u001b[0;34m\u001b[0m\u001b[0m\n\u001b[0m",
            "\u001b[0;32m/usr/local/lib/python3.10/dist-packages/google/colab/drive.py\u001b[0m in \u001b[0;36mmount\u001b[0;34m(mountpoint, force_remount, timeout_ms, readonly)\u001b[0m\n\u001b[1;32m    101\u001b[0m \u001b[0;32mdef\u001b[0m \u001b[0mmount\u001b[0m\u001b[0;34m(\u001b[0m\u001b[0mmountpoint\u001b[0m\u001b[0;34m,\u001b[0m \u001b[0mforce_remount\u001b[0m\u001b[0;34m=\u001b[0m\u001b[0;32mFalse\u001b[0m\u001b[0;34m,\u001b[0m \u001b[0mtimeout_ms\u001b[0m\u001b[0;34m=\u001b[0m\u001b[0;36m120000\u001b[0m\u001b[0;34m,\u001b[0m \u001b[0mreadonly\u001b[0m\u001b[0;34m=\u001b[0m\u001b[0;32mFalse\u001b[0m\u001b[0;34m)\u001b[0m\u001b[0;34m:\u001b[0m\u001b[0;34m\u001b[0m\u001b[0;34m\u001b[0m\u001b[0m\n\u001b[1;32m    102\u001b[0m   \u001b[0;34m\"\"\"Mount your Google Drive at the specified mountpoint path.\"\"\"\u001b[0m\u001b[0;34m\u001b[0m\u001b[0;34m\u001b[0m\u001b[0m\n\u001b[0;32m--> 103\u001b[0;31m   return _mount(\n\u001b[0m\u001b[1;32m    104\u001b[0m       \u001b[0mmountpoint\u001b[0m\u001b[0;34m,\u001b[0m\u001b[0;34m\u001b[0m\u001b[0;34m\u001b[0m\u001b[0m\n\u001b[1;32m    105\u001b[0m       \u001b[0mforce_remount\u001b[0m\u001b[0;34m=\u001b[0m\u001b[0mforce_remount\u001b[0m\u001b[0;34m,\u001b[0m\u001b[0;34m\u001b[0m\u001b[0;34m\u001b[0m\u001b[0m\n",
            "\u001b[0;32m/usr/local/lib/python3.10/dist-packages/google/colab/drive.py\u001b[0m in \u001b[0;36m_mount\u001b[0;34m(mountpoint, force_remount, timeout_ms, ephemeral, readonly)\u001b[0m\n\u001b[1;32m    190\u001b[0m       \u001b[0;32mraise\u001b[0m \u001b[0mValueError\u001b[0m\u001b[0;34m(\u001b[0m\u001b[0;34m'Mountpoint must not be a symlink'\u001b[0m\u001b[0;34m)\u001b[0m\u001b[0;34m\u001b[0m\u001b[0;34m\u001b[0m\u001b[0m\n\u001b[1;32m    191\u001b[0m     \u001b[0;32mif\u001b[0m \u001b[0m_os\u001b[0m\u001b[0;34m.\u001b[0m\u001b[0mpath\u001b[0m\u001b[0;34m.\u001b[0m\u001b[0misdir\u001b[0m\u001b[0;34m(\u001b[0m\u001b[0mmountpoint\u001b[0m\u001b[0;34m)\u001b[0m \u001b[0;32mand\u001b[0m \u001b[0m_os\u001b[0m\u001b[0;34m.\u001b[0m\u001b[0mlistdir\u001b[0m\u001b[0;34m(\u001b[0m\u001b[0mmountpoint\u001b[0m\u001b[0;34m)\u001b[0m\u001b[0;34m:\u001b[0m\u001b[0;34m\u001b[0m\u001b[0;34m\u001b[0m\u001b[0m\n\u001b[0;32m--> 192\u001b[0;31m       \u001b[0;32mraise\u001b[0m \u001b[0mValueError\u001b[0m\u001b[0;34m(\u001b[0m\u001b[0;34m'Mountpoint must not already contain files'\u001b[0m\u001b[0;34m)\u001b[0m\u001b[0;34m\u001b[0m\u001b[0;34m\u001b[0m\u001b[0m\n\u001b[0m\u001b[1;32m    193\u001b[0m     \u001b[0;32mif\u001b[0m \u001b[0;32mnot\u001b[0m \u001b[0m_os\u001b[0m\u001b[0;34m.\u001b[0m\u001b[0mpath\u001b[0m\u001b[0;34m.\u001b[0m\u001b[0misdir\u001b[0m\u001b[0;34m(\u001b[0m\u001b[0mmountpoint\u001b[0m\u001b[0;34m)\u001b[0m \u001b[0;32mand\u001b[0m \u001b[0m_os\u001b[0m\u001b[0;34m.\u001b[0m\u001b[0mpath\u001b[0m\u001b[0;34m.\u001b[0m\u001b[0mexists\u001b[0m\u001b[0;34m(\u001b[0m\u001b[0mmountpoint\u001b[0m\u001b[0;34m)\u001b[0m\u001b[0;34m:\u001b[0m\u001b[0;34m\u001b[0m\u001b[0;34m\u001b[0m\u001b[0m\n\u001b[1;32m    194\u001b[0m       \u001b[0;32mraise\u001b[0m \u001b[0mValueError\u001b[0m\u001b[0;34m(\u001b[0m\u001b[0;34m'Mountpoint must either be a directory or not exist'\u001b[0m\u001b[0;34m)\u001b[0m\u001b[0;34m\u001b[0m\u001b[0;34m\u001b[0m\u001b[0m\n",
            "\u001b[0;31mValueError\u001b[0m: Mountpoint must not already contain files"
          ]
        }
      ]
    },
    {
      "cell_type": "markdown",
      "source": [
        "MEMORY MANAGEMENT CODE"
      ],
      "metadata": {
        "id": "FFyl9_6svA57"
      }
    },
    {
      "cell_type": "markdown",
      "source": [
        "10 sec vedio convert"
      ],
      "metadata": {
        "id": "UzzY4akRyhhO"
      }
    },
    {
      "cell_type": "code",
      "source": [
        "pip install pydub"
      ],
      "metadata": {
        "colab": {
          "base_uri": "https://localhost:8080/"
        },
        "id": "YrNzYF49yGDC",
        "outputId": "a90f19ef-e571-4a93-8e42-b01395a6d296"
      },
      "execution_count": null,
      "outputs": [
        {
          "output_type": "stream",
          "name": "stdout",
          "text": [
            "Collecting pydub\n",
            "  Downloading pydub-0.25.1-py2.py3-none-any.whl (32 kB)\n",
            "Installing collected packages: pydub\n",
            "Successfully installed pydub-0.25.1\n"
          ]
        }
      ]
    },
    {
      "cell_type": "code",
      "source": [
        "#10 sec audio SEGMENTATION\n",
        "\n",
        "import os\n",
        "from pydub import AudioSegment\n",
        "\n",
        "input_folder = \"/content/drive/MyDrive/Deepfake/Deepfake - Voice Detection/KAGGLE/AUDIO/REAL\"\n",
        "output_folder = \"/content/drive/MyDrive/Deepfake/Deepfake - Voice Detection/KAGGLE/AUDIO/REAL_SEGMENTS\"\n",
        "\n",
        "os.makedirs(output_folder, exist_ok=True)\n",
        "\n",
        "wav_files = [f for f in os.listdir(input_folder) if f.endswith(\".wav\")]\n",
        "\n",
        "segment_duration = 10000\n",
        "\n",
        "for wav_file in wav_files:\n",
        "    input_path = os.path.join(input_folder, wav_file)\n",
        "\n",
        "    try:\n",
        "        audio = AudioSegment.from_wav(input_path)\n",
        "        duration = len(audio)\n",
        "\n",
        "        num_segments = duration // segment_duration\n",
        "\n",
        "        for i in range(num_segments):\n",
        "            start_time = i * segment_duration\n",
        "            end_time = (i + 1) * segment_duration\n",
        "            segment = audio[start_time:end_time]\n",
        "\n",
        "            output_path = os.path.join(output_folder, f\"{os.path.splitext(wav_file)[0]}_segment_{i}.wav\")\n",
        "            segment.export(output_path, format=\"wav\")\n",
        "    except Exception as e:\n",
        "        print(f\"Error processing {wav_file}: {str(e)}\")\n",
        "\n",
        "print(\"Audio has been split into 10-second segments and saved in the output folder.\")\n"
      ],
      "metadata": {
        "id": "JcKBHaAAv3_H",
        "colab": {
          "base_uri": "https://localhost:8080/"
        },
        "outputId": "5d695f2f-98ff-47c6-d685-951944dc5ebb"
      },
      "execution_count": null,
      "outputs": [
        {
          "output_type": "stream",
          "name": "stdout",
          "text": [
            "Audio has been split into 10-second segments and saved in the output folder.\n"
          ]
        }
      ]
    },
    {
      "cell_type": "markdown",
      "source": [
        "1st 20 sec only"
      ],
      "metadata": {
        "id": "9ezxC0efy6F4"
      }
    },
    {
      "cell_type": "code",
      "source": [
        "import os\n",
        "from pydub import AudioSegment\n",
        "\n",
        "input_folder = \"/content/drive/MyDrive/Deepfake/Deepfake - Voice Detection/KAGGLE/AUDIO/REAL\"\n",
        "output_folder = \"/content/drive/MyDrive/Deepfake/Deepfake - Voice Detection/KAGGLE/AUDIO/REAL_10SEC\"\n",
        "\n",
        "os.makedirs(output_folder, exist_ok=True)\n",
        "\n",
        "wav_files = [f for f in os.listdir(input_folder) if f.endswith(\".wav\")]\n",
        "\n",
        "segment_duration = 20000\n",
        "\n",
        "for wav_file in wav_files:\n",
        "    input_path = os.path.join(input_folder, wav_file)\n",
        "\n",
        "    try:\n",
        "        audio = AudioSegment.from_wav(input_path)\n",
        "\n",
        "        if len(audio) > segment_duration:\n",
        "            segment = audio[:segment_duration]\n",
        "        else:\n",
        "            segment = audio\n",
        "\n",
        "        output_path = os.path.join(output_folder, f\"{os.path.splitext(wav_file)[0]}_10sec.wav\")\n",
        "        segment.export(output_path, format=\"wav\")\n",
        "    except Exception as e:\n",
        "        print(f\"Error processing {wav_file}: {str(e)}\")\n",
        "\n",
        "print(\"First 10 seconds of each audio file have been saved in the output folder.\")\n"
      ],
      "metadata": {
        "colab": {
          "base_uri": "https://localhost:8080/"
        },
        "id": "wnHNc0ksy5VN",
        "outputId": "84e3ddd1-16eb-401b-8ce0-f23414476a72"
      },
      "execution_count": null,
      "outputs": [
        {
          "output_type": "stream",
          "name": "stdout",
          "text": [
            "First 10 seconds of each audio file have been saved in the output folder.\n"
          ]
        }
      ]
    }
  ]
}