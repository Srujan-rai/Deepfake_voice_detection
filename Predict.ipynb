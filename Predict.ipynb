{
  "nbformat": 4,
  "nbformat_minor": 0,
  "metadata": {
    "colab": {
      "provenance": [],
      "mount_file_id": "1ZPNilLK_8TMQoyFV2ALC3ahF9CsuCYz_",
      "authorship_tag": "ABX9TyMqnFZl+8aK9N9wofnDE66i",
      "include_colab_link": true
    },
    "kernelspec": {
      "name": "python3",
      "display_name": "Python 3"
    },
    "language_info": {
      "name": "python"
    }
  },
  "cells": [
    {
      "cell_type": "markdown",
      "metadata": {
        "id": "view-in-github",
        "colab_type": "text"
      },
      "source": [
        "<a href=\"https://colab.research.google.com/github/Srujan-rai/Deepfake_voice_detection/blob/main/Predict.ipynb\" target=\"_parent\"><img src=\"https://colab.research.google.com/assets/colab-badge.svg\" alt=\"Open In Colab\"/></a>"
      ]
    },
    {
      "cell_type": "code",
      "execution_count": 5,
      "metadata": {
        "colab": {
          "base_uri": "https://localhost:8080/"
        },
        "id": "hcGJsPp2KL_u",
        "outputId": "8d6d31a3-6a56-4c91-b867-d5deabc2d859"
      },
      "outputs": [
        {
          "output_type": "stream",
          "name": "stderr",
          "text": [
            "WARNING:tensorflow:5 out of the last 5 calls to <function Model.make_predict_function.<locals>.predict_function at 0x79390271ba30> triggered tf.function retracing. Tracing is expensive and the excessive number of tracings could be due to (1) creating @tf.function repeatedly in a loop, (2) passing tensors with different shapes, (3) passing Python objects instead of tensors. For (1), please define your @tf.function outside of the loop. For (2), @tf.function has reduce_retracing=True option that can avoid unnecessary retracing. For (3), please refer to https://www.tensorflow.org/guide/function#controlling_retracing and https://www.tensorflow.org/api_docs/python/tf/function for  more details.\n"
          ]
        },
        {
          "output_type": "stream",
          "name": "stdout",
          "text": [
            "1/1 [==============================] - 0s 351ms/step\n",
            "The image is classified as: fake\n"
          ]
        }
      ],
      "source": [
        "from tensorflow.keras.preprocessing import image\n",
        "import numpy as np\n",
        "\n",
        "from tensorflow import keras\n",
        "\n",
        "image_height=640\n",
        "image_width=480\n",
        "model = keras.models.load_model('/content/drive/MyDrive/Deepfake/Deepfake - Voice Detection/KAGGLE/MODEL/deepfake_model.h5')\n",
        "\n",
        "new_image_path = '/content/drive/MyDrive/Deepfake/Deepfake - Voice Detection/KAGGLE/DATA/real/biden-original_segment_13_waveform.png'\n",
        "img = image.load_img(new_image_path, target_size=(image_height, image_width))\n",
        "img = image.img_to_array(img)\n",
        "img = np.expand_dims(img, axis=0)\n",
        "img = img / 255.0\n",
        "\n",
        "\n",
        "predictions = model.predict(img)\n",
        "\n",
        "\n",
        "class_names = ['real', 'fake']\n",
        "predicted_class_index = np.argmax(predictions)\n",
        "predicted_class = class_names[predicted_class_index]\n",
        "\n",
        "print(f\"The image is classified as: {predicted_class}\")\n"
      ]
    },
    {
      "cell_type": "code",
      "source": [
        "from google.colab import drive\n",
        "drive.mount('/content/drive')"
      ],
      "metadata": {
        "id": "xMSzVY47Kcnn"
      },
      "execution_count": null,
      "outputs": []
    }
  ]
}